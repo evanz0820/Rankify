{
 "cells": [
  {
   "cell_type": "code",
   "execution_count": null,
   "metadata": {},
   "outputs": [],
   "source": [
    "CREAE TABLE Users (\n",
    "    userID INT PRIMARY KEY,\n",
    "    username varchar(255) NOT NULL,\n",
    "    password varchar(255) NOT NULL,\n",
    "    email varchar(255) NOT NULL\n",
    ");\n",
    "\n",
    "CREATE TABLE reviews (\n",
    "    reviewID INT PRIMARY KEY,\n",
    "    userID INT NOT NULL,\n",
    "    placeID varchar(255) NOT NULL,\n",
    "    content varchar(255),\n",
    "    rating INT(1) NOT NULL,\n",
    "    date DATE NOT NULL\n",
    ");\n",
    "\n",
    "\n",
    "CREATE TABLE business (\n",
    "    placeID varchar(255) PRIMARY KEY,\n",
    "    name varchar(255),\n",
    "    address varchar(255),\n",
    "    businessType varchar(255)\n",
    ");"
   ]
  }
 ],
 "metadata": {
  "language_info": {
   "name": "python"
  }
 },
 "nbformat": 4,
 "nbformat_minor": 2
}
